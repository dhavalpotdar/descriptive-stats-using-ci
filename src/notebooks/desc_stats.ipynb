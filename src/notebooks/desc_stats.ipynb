{
 "cells": [
  {
   "cell_type": "code",
   "execution_count": 2,
   "metadata": {},
   "outputs": [
    {
     "data": {
      "text/html": [
       "<div>\n",
       "<style scoped>\n",
       "    .dataframe tbody tr th:only-of-type {\n",
       "        vertical-align: middle;\n",
       "    }\n",
       "\n",
       "    .dataframe tbody tr th {\n",
       "        vertical-align: top;\n",
       "    }\n",
       "\n",
       "    .dataframe thead th {\n",
       "        text-align: right;\n",
       "    }\n",
       "</style>\n",
       "<table border=\"1\" class=\"dataframe\">\n",
       "  <thead>\n",
       "    <tr style=\"text-align: right;\">\n",
       "      <th></th>\n",
       "      <th>DR_NO</th>\n",
       "      <th>Date Rptd</th>\n",
       "      <th>DATE OCC</th>\n",
       "      <th>TIME OCC</th>\n",
       "      <th>AREA</th>\n",
       "      <th>AREA NAME</th>\n",
       "      <th>Rpt Dist No</th>\n",
       "      <th>Part 1-2</th>\n",
       "      <th>Crm Cd</th>\n",
       "      <th>Crm Cd Desc</th>\n",
       "      <th>...</th>\n",
       "      <th>Status</th>\n",
       "      <th>Status Desc</th>\n",
       "      <th>Crm Cd 1</th>\n",
       "      <th>Crm Cd 2</th>\n",
       "      <th>Crm Cd 3</th>\n",
       "      <th>Crm Cd 4</th>\n",
       "      <th>LOCATION</th>\n",
       "      <th>Cross Street</th>\n",
       "      <th>LAT</th>\n",
       "      <th>LON</th>\n",
       "    </tr>\n",
       "  </thead>\n",
       "  <tbody>\n",
       "    <tr>\n",
       "      <th>0</th>\n",
       "      <td>10304468</td>\n",
       "      <td>01/08/2020 12:00:00 AM</td>\n",
       "      <td>01/08/2020 12:00:00 AM</td>\n",
       "      <td>2230</td>\n",
       "      <td>3</td>\n",
       "      <td>Southwest</td>\n",
       "      <td>377</td>\n",
       "      <td>2</td>\n",
       "      <td>624</td>\n",
       "      <td>BATTERY - SIMPLE ASSAULT</td>\n",
       "      <td>...</td>\n",
       "      <td>AO</td>\n",
       "      <td>Adult Other</td>\n",
       "      <td>624.0</td>\n",
       "      <td>NaN</td>\n",
       "      <td>NaN</td>\n",
       "      <td>NaN</td>\n",
       "      <td>1100 W  39TH                         PL</td>\n",
       "      <td>NaN</td>\n",
       "      <td>34.0141</td>\n",
       "      <td>-118.2978</td>\n",
       "    </tr>\n",
       "    <tr>\n",
       "      <th>1</th>\n",
       "      <td>190101086</td>\n",
       "      <td>01/02/2020 12:00:00 AM</td>\n",
       "      <td>01/01/2020 12:00:00 AM</td>\n",
       "      <td>330</td>\n",
       "      <td>1</td>\n",
       "      <td>Central</td>\n",
       "      <td>163</td>\n",
       "      <td>2</td>\n",
       "      <td>624</td>\n",
       "      <td>BATTERY - SIMPLE ASSAULT</td>\n",
       "      <td>...</td>\n",
       "      <td>IC</td>\n",
       "      <td>Invest Cont</td>\n",
       "      <td>624.0</td>\n",
       "      <td>NaN</td>\n",
       "      <td>NaN</td>\n",
       "      <td>NaN</td>\n",
       "      <td>700 S  HILL                         ST</td>\n",
       "      <td>NaN</td>\n",
       "      <td>34.0459</td>\n",
       "      <td>-118.2545</td>\n",
       "    </tr>\n",
       "    <tr>\n",
       "      <th>2</th>\n",
       "      <td>200110444</td>\n",
       "      <td>04/14/2020 12:00:00 AM</td>\n",
       "      <td>02/13/2020 12:00:00 AM</td>\n",
       "      <td>1200</td>\n",
       "      <td>1</td>\n",
       "      <td>Central</td>\n",
       "      <td>155</td>\n",
       "      <td>2</td>\n",
       "      <td>845</td>\n",
       "      <td>SEX OFFENDER REGISTRANT OUT OF COMPLIANCE</td>\n",
       "      <td>...</td>\n",
       "      <td>AA</td>\n",
       "      <td>Adult Arrest</td>\n",
       "      <td>845.0</td>\n",
       "      <td>NaN</td>\n",
       "      <td>NaN</td>\n",
       "      <td>NaN</td>\n",
       "      <td>200 E  6TH                          ST</td>\n",
       "      <td>NaN</td>\n",
       "      <td>34.0448</td>\n",
       "      <td>-118.2474</td>\n",
       "    </tr>\n",
       "    <tr>\n",
       "      <th>3</th>\n",
       "      <td>191501505</td>\n",
       "      <td>01/01/2020 12:00:00 AM</td>\n",
       "      <td>01/01/2020 12:00:00 AM</td>\n",
       "      <td>1730</td>\n",
       "      <td>15</td>\n",
       "      <td>N Hollywood</td>\n",
       "      <td>1543</td>\n",
       "      <td>2</td>\n",
       "      <td>745</td>\n",
       "      <td>VANDALISM - MISDEAMEANOR ($399 OR UNDER)</td>\n",
       "      <td>...</td>\n",
       "      <td>IC</td>\n",
       "      <td>Invest Cont</td>\n",
       "      <td>745.0</td>\n",
       "      <td>998.0</td>\n",
       "      <td>NaN</td>\n",
       "      <td>NaN</td>\n",
       "      <td>5400    CORTEEN                      PL</td>\n",
       "      <td>NaN</td>\n",
       "      <td>34.1685</td>\n",
       "      <td>-118.4019</td>\n",
       "    </tr>\n",
       "    <tr>\n",
       "      <th>4</th>\n",
       "      <td>191921269</td>\n",
       "      <td>01/01/2020 12:00:00 AM</td>\n",
       "      <td>01/01/2020 12:00:00 AM</td>\n",
       "      <td>415</td>\n",
       "      <td>19</td>\n",
       "      <td>Mission</td>\n",
       "      <td>1998</td>\n",
       "      <td>2</td>\n",
       "      <td>740</td>\n",
       "      <td>VANDALISM - FELONY ($400 &amp; OVER, ALL CHURCH VA...</td>\n",
       "      <td>...</td>\n",
       "      <td>IC</td>\n",
       "      <td>Invest Cont</td>\n",
       "      <td>740.0</td>\n",
       "      <td>NaN</td>\n",
       "      <td>NaN</td>\n",
       "      <td>NaN</td>\n",
       "      <td>14400    TITUS                        ST</td>\n",
       "      <td>NaN</td>\n",
       "      <td>34.2198</td>\n",
       "      <td>-118.4468</td>\n",
       "    </tr>\n",
       "  </tbody>\n",
       "</table>\n",
       "<p>5 rows × 28 columns</p>\n",
       "</div>"
      ],
      "text/plain": [
       "       DR_NO               Date Rptd                DATE OCC  TIME OCC  AREA  \\\n",
       "0   10304468  01/08/2020 12:00:00 AM  01/08/2020 12:00:00 AM      2230     3   \n",
       "1  190101086  01/02/2020 12:00:00 AM  01/01/2020 12:00:00 AM       330     1   \n",
       "2  200110444  04/14/2020 12:00:00 AM  02/13/2020 12:00:00 AM      1200     1   \n",
       "3  191501505  01/01/2020 12:00:00 AM  01/01/2020 12:00:00 AM      1730    15   \n",
       "4  191921269  01/01/2020 12:00:00 AM  01/01/2020 12:00:00 AM       415    19   \n",
       "\n",
       "     AREA NAME  Rpt Dist No  Part 1-2  Crm Cd  \\\n",
       "0    Southwest          377         2     624   \n",
       "1      Central          163         2     624   \n",
       "2      Central          155         2     845   \n",
       "3  N Hollywood         1543         2     745   \n",
       "4      Mission         1998         2     740   \n",
       "\n",
       "                                         Crm Cd Desc  ... Status  \\\n",
       "0                           BATTERY - SIMPLE ASSAULT  ...     AO   \n",
       "1                           BATTERY - SIMPLE ASSAULT  ...     IC   \n",
       "2          SEX OFFENDER REGISTRANT OUT OF COMPLIANCE  ...     AA   \n",
       "3           VANDALISM - MISDEAMEANOR ($399 OR UNDER)  ...     IC   \n",
       "4  VANDALISM - FELONY ($400 & OVER, ALL CHURCH VA...  ...     IC   \n",
       "\n",
       "    Status Desc Crm Cd 1 Crm Cd 2  Crm Cd 3 Crm Cd 4  \\\n",
       "0   Adult Other    624.0      NaN       NaN      NaN   \n",
       "1   Invest Cont    624.0      NaN       NaN      NaN   \n",
       "2  Adult Arrest    845.0      NaN       NaN      NaN   \n",
       "3   Invest Cont    745.0    998.0       NaN      NaN   \n",
       "4   Invest Cont    740.0      NaN       NaN      NaN   \n",
       "\n",
       "                                   LOCATION Cross Street      LAT       LON  \n",
       "0   1100 W  39TH                         PL          NaN  34.0141 -118.2978  \n",
       "1    700 S  HILL                         ST          NaN  34.0459 -118.2545  \n",
       "2    200 E  6TH                          ST          NaN  34.0448 -118.2474  \n",
       "3   5400    CORTEEN                      PL          NaN  34.1685 -118.4019  \n",
       "4  14400    TITUS                        ST          NaN  34.2198 -118.4468  \n",
       "\n",
       "[5 rows x 28 columns]"
      ]
     },
     "execution_count": 2,
     "metadata": {},
     "output_type": "execute_result"
    }
   ],
   "source": [
    "import sys\n",
    "\n",
    "import numpy as np\n",
    "import matplotlib.pyplot as plt\n",
    "import math\n",
    "\n",
    "sys.path.append('/workspaces/descriptive-stats-using-ci/src/lib')\n",
    "from functions import load_crime_data, calculate_standard_deviation, calculate_mean, calculate_quartiles, pretty_hist_plot\n",
    "\n",
    "df = load_crime_data()\n",
    "df.head()\n"
   ]
  },
  {
   "cell_type": "markdown",
   "metadata": {},
   "source": [
    "## Basic Statistics\n",
    "***"
   ]
  },
  {
   "cell_type": "code",
   "execution_count": 2,
   "metadata": {},
   "outputs": [],
   "source": [
    "# subset numeric variables\n",
    "victim_ages = df['Vict Age'].values\n",
    "crime_times = df['TIME OCC'].values\n",
    "\n",
    "victim_ages_clean = df['Vict Age'][(df['Vict Age'] > 0) & (df['Vict Age'] < 95)]"
   ]
  },
  {
   "cell_type": "code",
   "execution_count": 3,
   "metadata": {},
   "outputs": [
    {
     "name": "stdout",
     "output_type": "stream",
     "text": [
      "Mean age of victims: 29.86 with a standard deviation of 21.76.\n",
      "Median age of victims: 31.0.\n",
      "25% of victims are less than: 9.0 years old.\n",
      "75% of victims are less than: 45.0 years old.\n"
     ]
    }
   ],
   "source": [
    "print(f'Mean age of victims: {calculate_mean(victim_ages)} with a standard deviation of {calculate_standard_deviation(victim_ages)}.')\n",
    "print(f'Median age of victims: {calculate_quartiles(victim_ages)[1]}.')\n",
    "print(f'25% of victims are less than: {calculate_quartiles(victim_ages)[0]} years old.')\n",
    "print(f'75% of victims are less than: {calculate_quartiles(victim_ages)[2]} years old.')"
   ]
  },
  {
   "cell_type": "code",
   "execution_count": 4,
   "metadata": {},
   "outputs": [
    {
     "name": "stdout",
     "output_type": "stream",
     "text": [
      "50% of the crimes happen before: 1415.0 hrs.\n",
      "25% of the crimes happen before: 900.0 hrs.\n",
      "75% of the crimes happen before: 1900.0 hrs.\n"
     ]
    }
   ],
   "source": [
    "print(f'50% of the crimes happen before: {np.round(calculate_quartiles(crime_times)[1], 0)} hrs.')\n",
    "print(f'25% of the crimes happen before: {np.round(calculate_quartiles(crime_times)[0], 0)} hrs.')\n",
    "print(f'75% of the crimes happen before: {np.round(calculate_quartiles(crime_times)[2], 0)} hrs.')"
   ]
  },
  {
   "cell_type": "markdown",
   "metadata": {},
   "source": [
    "## Distributions\n",
    "***"
   ]
  },
  {
   "cell_type": "code",
   "execution_count": 5,
   "metadata": {},
   "outputs": [
    {
     "data": {
      "image/png": "[encoded data removed]",
      "text/plain": [
       "<Figure size 800x600 with 1 Axes>"
      ]
     },
     "metadata": {},
     "output_type": "display_data"
    }
   ],
   "source": [
    "\n",
    "pretty_hist_plot(series=victim_ages_clean, title='Distribution of Ages of Victims', xlab='Age', ylab='Count of Incidents')"
   ]
  }
 ],
 "metadata": {
  "kernelspec": {
   "display_name": "venv",
   "language": "python",
   "name": "python3"
  },
  "language_info": {
   "codemirror_mode": {
    "name": "ipython",
    "version": 3
   },
   "file_extension": ".py",
   "mimetype": "text/x-python",
   "name": "python",
   "nbconvert_exporter": "python",
   "pygments_lexer": "ipython3",
   "version": "3.10.12"
  },
  "orig_nbformat": 4
 },
 "nbformat": 4,
 "nbformat_minor": 2
}
